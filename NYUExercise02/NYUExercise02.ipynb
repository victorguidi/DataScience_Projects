{
 "cells": [
  {
   "cell_type": "markdown",
   "id": "388b6e3e",
   "metadata": {},
   "source": [
    "# NYU Programming for DataScience - Exercise 02"
   ]
  },
  {
   "cell_type": "markdown",
   "id": "e4a85aaa",
   "metadata": {},
   "source": [
    "#Getting the libraries"
   ]
  },
  {
   "cell_type": "code",
   "execution_count": 2,
   "id": "b0372942",
   "metadata": {},
   "outputs": [],
   "source": [
    "%config IPCompleter.greedy=True"
   ]
  },
  {
   "cell_type": "code",
   "execution_count": 3,
   "id": "1f54be89",
   "metadata": {},
   "outputs": [],
   "source": [
    "import pandas as pd\n",
    "import numpy as np"
   ]
  },
  {
   "cell_type": "markdown",
   "id": "4c91030a",
   "metadata": {},
   "source": [
    "# 1 - Imports the data into a data structure of your choice"
   ]
  },
  {
   "cell_type": "code",
   "execution_count": 4,
   "id": "07bc5c24",
   "metadata": {},
   "outputs": [],
   "source": [
    "data = pd.read_csv('houseelf_earlength_dna_data.csv')"
   ]
  },
  {
   "cell_type": "code",
   "execution_count": 5,
   "id": "43dbac6e",
   "metadata": {},
   "outputs": [
    {
     "data": {
      "text/html": [
       "<div>\n",
       "<style scoped>\n",
       "    .dataframe tbody tr th:only-of-type {\n",
       "        vertical-align: middle;\n",
       "    }\n",
       "\n",
       "    .dataframe tbody tr th {\n",
       "        vertical-align: top;\n",
       "    }\n",
       "\n",
       "    .dataframe thead th {\n",
       "        text-align: right;\n",
       "    }\n",
       "</style>\n",
       "<table border=\"1\" class=\"dataframe\">\n",
       "  <thead>\n",
       "    <tr style=\"text-align: right;\">\n",
       "      <th></th>\n",
       "      <th>id</th>\n",
       "      <th>earlength</th>\n",
       "      <th>dnaseq</th>\n",
       "    </tr>\n",
       "  </thead>\n",
       "  <tbody>\n",
       "    <tr>\n",
       "      <th>0</th>\n",
       "      <td>17A</td>\n",
       "      <td>5.1</td>\n",
       "      <td>CCGCATCTTGACTTAACTGACATATTACCATAGATGACTAGCCATG...</td>\n",
       "    </tr>\n",
       "    <tr>\n",
       "      <th>1</th>\n",
       "      <td>24P</td>\n",
       "      <td>7.5</td>\n",
       "      <td>GCTATGACTTGCTTAGCTACGTATGAAGGAAGAAACTTTTGTGTAT...</td>\n",
       "    </tr>\n",
       "    <tr>\n",
       "      <th>2</th>\n",
       "      <td>09Q</td>\n",
       "      <td>12.2</td>\n",
       "      <td>CCGCCGATTGATACAGGGGACGGTGACGTCGTCATAGATTCGGCAC...</td>\n",
       "    </tr>\n",
       "    <tr>\n",
       "      <th>3</th>\n",
       "      <td>65Y</td>\n",
       "      <td>9.9</td>\n",
       "      <td>GCAGGAGAAGTTCTTAACCTTCTCGTAGGACGTCAACCTATTCTTT...</td>\n",
       "    </tr>\n",
       "    <tr>\n",
       "      <th>4</th>\n",
       "      <td>19N</td>\n",
       "      <td>10.0</td>\n",
       "      <td>TCTTCATCCTTATCAAAGTTTGGAGTCAATGATCAGGATTATTGCC...</td>\n",
       "    </tr>\n",
       "    <tr>\n",
       "      <th>5</th>\n",
       "      <td>92K</td>\n",
       "      <td>14.6</td>\n",
       "      <td>ACCGATGGACAATGATTCGGGTAGCACCAGGAGTCCGTAGCGCGTG...</td>\n",
       "    </tr>\n",
       "    <tr>\n",
       "      <th>6</th>\n",
       "      <td>33W</td>\n",
       "      <td>8.2</td>\n",
       "      <td>CAGCTTGACTCGGTCTGTTAGGCCACGATTACGTGAGTTAGGGCTC...</td>\n",
       "    </tr>\n",
       "    <tr>\n",
       "      <th>7</th>\n",
       "      <td>98C</td>\n",
       "      <td>17.8</td>\n",
       "      <td>CTGCATGCTAGGTTGACACGCCTGCACTGCTCGAAGAAAATATGCG...</td>\n",
       "    </tr>\n",
       "    <tr>\n",
       "      <th>8</th>\n",
       "      <td>75G</td>\n",
       "      <td>9.4</td>\n",
       "      <td>CTTATTTAGATAACATGATTAGCCGAAGTTGTACGGGATATCCACC...</td>\n",
       "    </tr>\n",
       "    <tr>\n",
       "      <th>9</th>\n",
       "      <td>88Q</td>\n",
       "      <td>11.3</td>\n",
       "      <td>GATTGCTCGCACATGAGCAAAACGGTAGAGCGTCACTTTCAGCCCT...</td>\n",
       "    </tr>\n",
       "  </tbody>\n",
       "</table>\n",
       "</div>"
      ],
      "text/plain": [
       "    id  earlength                                             dnaseq\n",
       "0  17A        5.1  CCGCATCTTGACTTAACTGACATATTACCATAGATGACTAGCCATG...\n",
       "1  24P        7.5  GCTATGACTTGCTTAGCTACGTATGAAGGAAGAAACTTTTGTGTAT...\n",
       "2  09Q       12.2  CCGCCGATTGATACAGGGGACGGTGACGTCGTCATAGATTCGGCAC...\n",
       "3  65Y        9.9  GCAGGAGAAGTTCTTAACCTTCTCGTAGGACGTCAACCTATTCTTT...\n",
       "4  19N       10.0  TCTTCATCCTTATCAAAGTTTGGAGTCAATGATCAGGATTATTGCC...\n",
       "5  92K       14.6  ACCGATGGACAATGATTCGGGTAGCACCAGGAGTCCGTAGCGCGTG...\n",
       "6  33W        8.2  CAGCTTGACTCGGTCTGTTAGGCCACGATTACGTGAGTTAGGGCTC...\n",
       "7  98C       17.8  CTGCATGCTAGGTTGACACGCCTGCACTGCTCGAAGAAAATATGCG...\n",
       "8  75G        9.4  CTTATTTAGATAACATGATTAGCCGAAGTTGTACGGGATATCCACC...\n",
       "9  88Q       11.3  GATTGCTCGCACATGAGCAAAACGGTAGAGCGTCACTTTCAGCCCT..."
      ]
     },
     "execution_count": 5,
     "metadata": {},
     "output_type": "execute_result"
    }
   ],
   "source": [
    "data"
   ]
  },
  {
   "cell_type": "markdown",
   "id": "da9a94e6",
   "metadata": {},
   "source": [
    "#Creating the DataFrame"
   ]
  },
  {
   "cell_type": "markdown",
   "id": "60c4ee39",
   "metadata": {},
   "source": [
    "# 2 - Loops over the rows in the dataset"
   ]
  },
  {
   "cell_type": "code",
   "execution_count": null,
   "id": "34573bbd",
   "metadata": {},
   "outputs": [],
   "source": [
    "# 3 - For each row in the dataset checks to see if the ear length is large (>10 cm) or small (<=10 cm) and \n",
    "#determines the GC-content of the DNA sequence (i.e., the percentage of bases that are either G or C)"
   ]
  },
  {
   "cell_type": "code",
   "execution_count": 33,
   "id": "b7bbba2d",
   "metadata": {},
   "outputs": [],
   "source": [
    "df = pd.DataFrame(data)"
   ]
  },
  {
   "cell_type": "code",
   "execution_count": 37,
   "id": "13bc8734",
   "metadata": {},
   "outputs": [],
   "source": [
    "df['Size'] = np.where(df['earlength']>10, True, False)"
   ]
  },
  {
   "cell_type": "code",
   "execution_count": 44,
   "id": "9d7bcada",
   "metadata": {
    "scrolled": true
   },
   "outputs": [],
   "source": [
    "g = df['dnaseq'].str.count(\"G\")\n",
    "c = df['dnaseq'].str.count(\"C\")\n",
    "total = df['dnaseq'].str.len()\n",
    "gc_total = g + c\n",
    "gc_content = gc_total/total\n",
    "gc_content\n",
    "df['GC_Content'] = gc_content"
   ]
  },
  {
   "cell_type": "markdown",
   "id": "3a10eaa8",
   "metadata": {},
   "source": [
    "#Creating the new DataFrame with columns: ID, Size, GC content and Averages"
   ]
  },
  {
   "cell_type": "code",
   "execution_count": null,
   "id": "15f9c377",
   "metadata": {},
   "outputs": [],
   "source": [
    "# 4 - Stores this information in a table where the first column has the ID for the individual, \n",
    "#the second column contains the string ‘large’ or the string ‘small’ depending on the size of the individuals ears, \n",
    "#and the third column contains the GC content of the DNA sequence."
   ]
  },
  {
   "cell_type": "code",
   "execution_count": 47,
   "id": "653e9ba3",
   "metadata": {},
   "outputs": [
    {
     "data": {
      "text/html": [
       "<div>\n",
       "<style scoped>\n",
       "    .dataframe tbody tr th:only-of-type {\n",
       "        vertical-align: middle;\n",
       "    }\n",
       "\n",
       "    .dataframe tbody tr th {\n",
       "        vertical-align: top;\n",
       "    }\n",
       "\n",
       "    .dataframe thead th {\n",
       "        text-align: right;\n",
       "    }\n",
       "</style>\n",
       "<table border=\"1\" class=\"dataframe\">\n",
       "  <thead>\n",
       "    <tr style=\"text-align: right;\">\n",
       "      <th></th>\n",
       "      <th>ID</th>\n",
       "      <th>Size</th>\n",
       "      <th>GC_Content</th>\n",
       "    </tr>\n",
       "  </thead>\n",
       "  <tbody>\n",
       "    <tr>\n",
       "      <th>0</th>\n",
       "      <td>17A</td>\n",
       "      <td>Small</td>\n",
       "      <td>41.0</td>\n",
       "    </tr>\n",
       "    <tr>\n",
       "      <th>1</th>\n",
       "      <td>24P</td>\n",
       "      <td>Small</td>\n",
       "      <td>39.0</td>\n",
       "    </tr>\n",
       "    <tr>\n",
       "      <th>2</th>\n",
       "      <td>09Q</td>\n",
       "      <td>Large</td>\n",
       "      <td>57.0</td>\n",
       "    </tr>\n",
       "    <tr>\n",
       "      <th>3</th>\n",
       "      <td>65Y</td>\n",
       "      <td>Small</td>\n",
       "      <td>40.0</td>\n",
       "    </tr>\n",
       "    <tr>\n",
       "      <th>4</th>\n",
       "      <td>19N</td>\n",
       "      <td>Small</td>\n",
       "      <td>36.0</td>\n",
       "    </tr>\n",
       "    <tr>\n",
       "      <th>5</th>\n",
       "      <td>92K</td>\n",
       "      <td>Large</td>\n",
       "      <td>62.0</td>\n",
       "    </tr>\n",
       "    <tr>\n",
       "      <th>6</th>\n",
       "      <td>33W</td>\n",
       "      <td>Small</td>\n",
       "      <td>52.0</td>\n",
       "    </tr>\n",
       "    <tr>\n",
       "      <th>7</th>\n",
       "      <td>98C</td>\n",
       "      <td>Large</td>\n",
       "      <td>63.0</td>\n",
       "    </tr>\n",
       "    <tr>\n",
       "      <th>8</th>\n",
       "      <td>75G</td>\n",
       "      <td>Small</td>\n",
       "      <td>47.0</td>\n",
       "    </tr>\n",
       "    <tr>\n",
       "      <th>9</th>\n",
       "      <td>88Q</td>\n",
       "      <td>Large</td>\n",
       "      <td>52.0</td>\n",
       "    </tr>\n",
       "  </tbody>\n",
       "</table>\n",
       "</div>"
      ],
      "text/plain": [
       "    ID   Size  GC_Content\n",
       "0  17A  Small        41.0\n",
       "1  24P  Small        39.0\n",
       "2  09Q  Large        57.0\n",
       "3  65Y  Small        40.0\n",
       "4  19N  Small        36.0\n",
       "5  92K  Large        62.0\n",
       "6  33W  Small        52.0\n",
       "7  98C  Large        63.0\n",
       "8  75G  Small        47.0\n",
       "9  88Q  Large        52.0"
      ]
     },
     "execution_count": 47,
     "metadata": {},
     "output_type": "execute_result"
    }
   ],
   "source": [
    "new_df = pd.DataFrame(columns = ['ID','Size', 'GC_Content']) \n",
    "new_df['ID'] = df['id']\n",
    "new_df['Size'] = df['Size'].map(\n",
    "                   {True:'Large' ,False:\"Small\"})\n",
    "new_df['GC_Content'] = df['GC_Content']*100\n",
    "new_df"
   ]
  },
  {
   "cell_type": "markdown",
   "id": "7160fb40",
   "metadata": {},
   "source": [
    "# 5 - Prints the average GC-content for both large-eared elves and small-eared elves to the screen."
   ]
  },
  {
   "cell_type": "code",
   "execution_count": 63,
   "id": "5796ba76",
   "metadata": {},
   "outputs": [
    {
     "data": {
      "text/plain": [
       "58.5"
      ]
     },
     "execution_count": 63,
     "metadata": {},
     "output_type": "execute_result"
    }
   ],
   "source": [
    "large_df = new_df.loc[new_df['Size'] == 'Large']\n",
    "average_l = large_df['GC_Content'].mean()\n",
    "average_l"
   ]
  },
  {
   "cell_type": "code",
   "execution_count": 64,
   "id": "30675226",
   "metadata": {},
   "outputs": [
    {
     "data": {
      "text/plain": [
       "42.5"
      ]
     },
     "execution_count": 64,
     "metadata": {},
     "output_type": "execute_result"
    }
   ],
   "source": [
    "small_df = new_df.loc[new_df['Size'] == 'Small']\n",
    "average_s = small_df['GC_Content'].mean()\n",
    "average_s"
   ]
  },
  {
   "cell_type": "code",
   "execution_count": 67,
   "id": "9302cafb",
   "metadata": {},
   "outputs": [
    {
     "data": {
      "text/html": [
       "<div>\n",
       "<style scoped>\n",
       "    .dataframe tbody tr th:only-of-type {\n",
       "        vertical-align: middle;\n",
       "    }\n",
       "\n",
       "    .dataframe tbody tr th {\n",
       "        vertical-align: top;\n",
       "    }\n",
       "\n",
       "    .dataframe thead th {\n",
       "        text-align: right;\n",
       "    }\n",
       "</style>\n",
       "<table border=\"1\" class=\"dataframe\">\n",
       "  <thead>\n",
       "    <tr style=\"text-align: right;\">\n",
       "      <th></th>\n",
       "      <th>ID</th>\n",
       "      <th>Size</th>\n",
       "      <th>GC_Content</th>\n",
       "      <th>AverageGC_Large</th>\n",
       "      <th>AverageGC_Small</th>\n",
       "    </tr>\n",
       "  </thead>\n",
       "  <tbody>\n",
       "    <tr>\n",
       "      <th>0</th>\n",
       "      <td>17A</td>\n",
       "      <td>Small</td>\n",
       "      <td>41.0</td>\n",
       "      <td>58.5</td>\n",
       "      <td>42.5</td>\n",
       "    </tr>\n",
       "    <tr>\n",
       "      <th>1</th>\n",
       "      <td>24P</td>\n",
       "      <td>Small</td>\n",
       "      <td>39.0</td>\n",
       "      <td></td>\n",
       "      <td></td>\n",
       "    </tr>\n",
       "    <tr>\n",
       "      <th>2</th>\n",
       "      <td>09Q</td>\n",
       "      <td>Large</td>\n",
       "      <td>57.0</td>\n",
       "      <td></td>\n",
       "      <td></td>\n",
       "    </tr>\n",
       "    <tr>\n",
       "      <th>3</th>\n",
       "      <td>65Y</td>\n",
       "      <td>Small</td>\n",
       "      <td>40.0</td>\n",
       "      <td></td>\n",
       "      <td></td>\n",
       "    </tr>\n",
       "    <tr>\n",
       "      <th>4</th>\n",
       "      <td>19N</td>\n",
       "      <td>Small</td>\n",
       "      <td>36.0</td>\n",
       "      <td></td>\n",
       "      <td></td>\n",
       "    </tr>\n",
       "    <tr>\n",
       "      <th>5</th>\n",
       "      <td>92K</td>\n",
       "      <td>Large</td>\n",
       "      <td>62.0</td>\n",
       "      <td></td>\n",
       "      <td></td>\n",
       "    </tr>\n",
       "    <tr>\n",
       "      <th>6</th>\n",
       "      <td>33W</td>\n",
       "      <td>Small</td>\n",
       "      <td>52.0</td>\n",
       "      <td></td>\n",
       "      <td></td>\n",
       "    </tr>\n",
       "    <tr>\n",
       "      <th>7</th>\n",
       "      <td>98C</td>\n",
       "      <td>Large</td>\n",
       "      <td>63.0</td>\n",
       "      <td></td>\n",
       "      <td></td>\n",
       "    </tr>\n",
       "    <tr>\n",
       "      <th>8</th>\n",
       "      <td>75G</td>\n",
       "      <td>Small</td>\n",
       "      <td>47.0</td>\n",
       "      <td></td>\n",
       "      <td></td>\n",
       "    </tr>\n",
       "    <tr>\n",
       "      <th>9</th>\n",
       "      <td>88Q</td>\n",
       "      <td>Large</td>\n",
       "      <td>52.0</td>\n",
       "      <td></td>\n",
       "      <td></td>\n",
       "    </tr>\n",
       "  </tbody>\n",
       "</table>\n",
       "</div>"
      ],
      "text/plain": [
       "    ID   Size  GC_Content AverageGC_Large AverageGC_Small\n",
       "0  17A  Small        41.0            58.5            42.5\n",
       "1  24P  Small        39.0                                \n",
       "2  09Q  Large        57.0                                \n",
       "3  65Y  Small        40.0                                \n",
       "4  19N  Small        36.0                                \n",
       "5  92K  Large        62.0                                \n",
       "6  33W  Small        52.0                                \n",
       "7  98C  Large        63.0                                \n",
       "8  75G  Small        47.0                                \n",
       "9  88Q  Large        52.0                                "
      ]
     },
     "execution_count": 67,
     "metadata": {},
     "output_type": "execute_result"
    }
   ],
   "source": [
    "new_df['AverageGC_Large'] = pd.Series(average_l, index=new_df.index[[0]])\n",
    "new_df['AverageGC_Large'] = new_df['AverageGC_Large'].fillna('')\n",
    "new_df['AverageGC_Small'] = pd.Series(average_s, index=new_df.index[[0]])\n",
    "new_df['AverageGC_Small'] = new_df['AverageGC_Small'].fillna('')\n",
    "new_df"
   ]
  },
  {
   "cell_type": "markdown",
   "id": "337ae5a6",
   "metadata": {},
   "source": [
    "#Exporting to csv"
   ]
  },
  {
   "cell_type": "markdown",
   "id": "45bbb673",
   "metadata": {},
   "source": [
    "# 6 - Exports the table of individual level GC values to a CSV (comma delimited text) file titled grangers_analysis.csv."
   ]
  },
  {
   "cell_type": "code",
   "execution_count": 69,
   "id": "76de3e75",
   "metadata": {},
   "outputs": [],
   "source": [
    "new_df.to_csv(\"grangers_analysis.csv\")"
   ]
  },
  {
   "cell_type": "markdown",
   "id": "1e868e84",
   "metadata": {},
   "source": [
    "# End"
   ]
  }
 ],
 "metadata": {
  "kernelspec": {
   "display_name": "Python 3",
   "language": "python",
   "name": "python3"
  },
  "language_info": {
   "codemirror_mode": {
    "name": "ipython",
    "version": 3
   },
   "file_extension": ".py",
   "mimetype": "text/x-python",
   "name": "python",
   "nbconvert_exporter": "python",
   "pygments_lexer": "ipython3",
   "version": "3.8.8"
  }
 },
 "nbformat": 4,
 "nbformat_minor": 5
}
