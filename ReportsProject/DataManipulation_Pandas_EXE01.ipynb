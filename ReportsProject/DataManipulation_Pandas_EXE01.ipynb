{
 "cells": [
  {
   "cell_type": "code",
   "execution_count": 1,
   "id": "99b68f7a",
   "metadata": {},
   "outputs": [],
   "source": [
    "import pandas as pd\n",
    "import numpy as np\n",
    "import glob"
   ]
  },
  {
   "cell_type": "code",
   "execution_count": 289,
   "id": "808213ef",
   "metadata": {},
   "outputs": [
    {
     "data": {
      "text/html": [
       "<div>\n",
       "<style scoped>\n",
       "    .dataframe tbody tr th:only-of-type {\n",
       "        vertical-align: middle;\n",
       "    }\n",
       "\n",
       "    .dataframe tbody tr th {\n",
       "        vertical-align: top;\n",
       "    }\n",
       "\n",
       "    .dataframe thead th {\n",
       "        text-align: right;\n",
       "    }\n",
       "</style>\n",
       "<table border=\"1\" class=\"dataframe\">\n",
       "  <thead>\n",
       "    <tr style=\"text-align: right;\">\n",
       "      <th></th>\n",
       "      <th>Task</th>\n",
       "      <th>Short Description</th>\n",
       "      <th>Stage</th>\n",
       "      <th>Has Breached SLA</th>\n",
       "      <th>Created on</th>\n",
       "    </tr>\n",
       "  </thead>\n",
       "  <tbody>\n",
       "    <tr>\n",
       "      <th>0</th>\n",
       "      <td>RITM0019734</td>\n",
       "      <td>Solicitação de notebook ou desktop</td>\n",
       "      <td>Completed</td>\n",
       "      <td>False</td>\n",
       "      <td>2021-08-30 16:09:04</td>\n",
       "    </tr>\n",
       "    <tr>\n",
       "      <th>1</th>\n",
       "      <td>RITM0019732</td>\n",
       "      <td>Solicitação de notebook ou desktop</td>\n",
       "      <td>Completed</td>\n",
       "      <td>False</td>\n",
       "      <td>2021-08-30 15:58:22</td>\n",
       "    </tr>\n",
       "    <tr>\n",
       "      <th>2</th>\n",
       "      <td>RITM0019667</td>\n",
       "      <td>Solicitação de notebook ou desktop</td>\n",
       "      <td>Completed</td>\n",
       "      <td>False</td>\n",
       "      <td>2021-08-29 17:13:38</td>\n",
       "    </tr>\n",
       "    <tr>\n",
       "      <th>3</th>\n",
       "      <td>RITM0019661</td>\n",
       "      <td>Solicitações diversas</td>\n",
       "      <td>Completed</td>\n",
       "      <td>False</td>\n",
       "      <td>2021-08-29 11:02:00</td>\n",
       "    </tr>\n",
       "    <tr>\n",
       "      <th>4</th>\n",
       "      <td>RITM0019616</td>\n",
       "      <td>Liberação, ajustes ou remoção de acessos a sis...</td>\n",
       "      <td>Completed</td>\n",
       "      <td>False</td>\n",
       "      <td>2021-08-27 14:31:02</td>\n",
       "    </tr>\n",
       "    <tr>\n",
       "      <th>...</th>\n",
       "      <td>...</td>\n",
       "      <td>...</td>\n",
       "      <td>...</td>\n",
       "      <td>...</td>\n",
       "      <td>...</td>\n",
       "    </tr>\n",
       "    <tr>\n",
       "      <th>20598</th>\n",
       "      <td>INC0180850</td>\n",
       "      <td>Perda de conectividade da Ferramenta Webcontro...</td>\n",
       "      <td>Completed</td>\n",
       "      <td>False</td>\n",
       "      <td>2021-05-02 21:23:18</td>\n",
       "    </tr>\n",
       "    <tr>\n",
       "      <th>20599</th>\n",
       "      <td>INC0179162</td>\n",
       "      <td>Computador travando</td>\n",
       "      <td>Completed</td>\n",
       "      <td>True</td>\n",
       "      <td>2021-05-01 01:06:45</td>\n",
       "    </tr>\n",
       "    <tr>\n",
       "      <th>20600</th>\n",
       "      <td>INC0179162</td>\n",
       "      <td>Computador travando</td>\n",
       "      <td>Cancelled</td>\n",
       "      <td>False</td>\n",
       "      <td>2021-05-01 00:48:30</td>\n",
       "    </tr>\n",
       "    <tr>\n",
       "      <th>20601</th>\n",
       "      <td>INC0179159</td>\n",
       "      <td>Impressora (Falha de comunicação) Travada.</td>\n",
       "      <td>Completed</td>\n",
       "      <td>True</td>\n",
       "      <td>2021-05-01 01:06:53</td>\n",
       "    </tr>\n",
       "    <tr>\n",
       "      <th>20602</th>\n",
       "      <td>INC0179159</td>\n",
       "      <td>Impressora (Falha de comunicação) Travada.</td>\n",
       "      <td>Cancelled</td>\n",
       "      <td>False</td>\n",
       "      <td>2021-05-01 00:40:02</td>\n",
       "    </tr>\n",
       "  </tbody>\n",
       "</table>\n",
       "<p>20603 rows × 5 columns</p>\n",
       "</div>"
      ],
      "text/plain": [
       "              Task                                  Short Description  \\\n",
       "0      RITM0019734                 Solicitação de notebook ou desktop   \n",
       "1      RITM0019732                 Solicitação de notebook ou desktop   \n",
       "2      RITM0019667                 Solicitação de notebook ou desktop   \n",
       "3      RITM0019661                              Solicitações diversas   \n",
       "4      RITM0019616  Liberação, ajustes ou remoção de acessos a sis...   \n",
       "...            ...                                                ...   \n",
       "20598   INC0180850  Perda de conectividade da Ferramenta Webcontro...   \n",
       "20599   INC0179162                                Computador travando   \n",
       "20600   INC0179162                                Computador travando   \n",
       "20601   INC0179159         Impressora (Falha de comunicação) Travada.   \n",
       "20602   INC0179159         Impressora (Falha de comunicação) Travada.   \n",
       "\n",
       "           Stage  Has Breached SLA           Created on  \n",
       "0      Completed             False  2021-08-30 16:09:04  \n",
       "1      Completed             False  2021-08-30 15:58:22  \n",
       "2      Completed             False  2021-08-29 17:13:38  \n",
       "3      Completed             False  2021-08-29 11:02:00  \n",
       "4      Completed             False  2021-08-27 14:31:02  \n",
       "...          ...               ...                  ...  \n",
       "20598  Completed             False  2021-05-02 21:23:18  \n",
       "20599  Completed              True  2021-05-01 01:06:45  \n",
       "20600  Cancelled             False  2021-05-01 00:48:30  \n",
       "20601  Completed              True  2021-05-01 01:06:53  \n",
       "20602  Cancelled             False  2021-05-01 00:40:02  \n",
       "\n",
       "[20603 rows x 5 columns]"
      ]
     },
     "execution_count": 289,
     "metadata": {},
     "output_type": "execute_result"
    }
   ],
   "source": [
    "path = 'C:/Users/vsgui/Documents/PythonProjects/ChamadosProject/Files' #Gives the path \\ should be this /\n",
    "csv_files = glob.glob(path + \"/*.csv\") #glob is a module Unix style pathname pattern expansion\n",
    "\n",
    "li = [] #Create an empty matrix\n",
    "\n",
    "for files in csv_files: #Loop over all the csv files inside the \"path\" variable\n",
    "    df = pd.read_csv(files, index_col=None, header=0, encoding=\"latin-1\")\n",
    "    li.append(df) #Add inside this matrix all the files that were found over the loop\n",
    "\n",
    "frame = pd.concat(li, axis=0, ignore_index=True) #Concat all the files in a single dataframe\n",
    "\n",
    "#Selecting only the columns I want\n",
    "frame = pd.DataFrame(frame, columns=['task', 'task.short_description', 'stage', 'has_breached', 'sys_created_on'])\n",
    "\n",
    "#Renaming the columns\n",
    "frame = frame.rename(columns = {'task': 'Task', 'task.short_description': 'Short Description', 'stage': 'Stage', 'has_breached': 'Has Breached SLA', 'sys_created_on': 'Created on'})\n",
    "\n",
    "frame"
   ]
  },
  {
   "cell_type": "code",
   "execution_count": 169,
   "id": "f570190a",
   "metadata": {},
   "outputs": [
    {
     "data": {
      "text/html": [
       "<div>\n",
       "<style scoped>\n",
       "    .dataframe tbody tr th:only-of-type {\n",
       "        vertical-align: middle;\n",
       "    }\n",
       "\n",
       "    .dataframe tbody tr th {\n",
       "        vertical-align: top;\n",
       "    }\n",
       "\n",
       "    .dataframe thead th {\n",
       "        text-align: right;\n",
       "    }\n",
       "</style>\n",
       "<table border=\"1\" class=\"dataframe\">\n",
       "  <thead>\n",
       "    <tr style=\"text-align: right;\">\n",
       "      <th></th>\n",
       "      <th>Task</th>\n",
       "    </tr>\n",
       "    <tr>\n",
       "      <th>Stage</th>\n",
       "      <th></th>\n",
       "    </tr>\n",
       "  </thead>\n",
       "  <tbody>\n",
       "    <tr>\n",
       "      <th>Cancelled</th>\n",
       "      <td>1836</td>\n",
       "    </tr>\n",
       "    <tr>\n",
       "      <th>Completed</th>\n",
       "      <td>18750</td>\n",
       "    </tr>\n",
       "    <tr>\n",
       "      <th>In progress</th>\n",
       "      <td>11</td>\n",
       "    </tr>\n",
       "    <tr>\n",
       "      <th>Paused</th>\n",
       "      <td>5</td>\n",
       "    </tr>\n",
       "  </tbody>\n",
       "</table>\n",
       "</div>"
      ],
      "text/plain": [
       "              Task\n",
       "Stage             \n",
       "Cancelled     1836\n",
       "Completed    18750\n",
       "In progress     11\n",
       "Paused           5"
      ]
     },
     "execution_count": 169,
     "metadata": {},
     "output_type": "execute_result"
    }
   ],
   "source": [
    "#Grouping by stage and counting how many we have\n",
    "group_stage = pd.DataFrame(frame, columns = ['Stage', 'Task'])\n",
    "group_stage.groupby(['Stage']).count()"
   ]
  },
  {
   "cell_type": "code",
   "execution_count": 220,
   "id": "c39426b1",
   "metadata": {},
   "outputs": [
    {
     "data": {
      "text/html": [
       "<style  type=\"text/css\" >\n",
       "</style><table id=\"T_aa44b_\" ><thead>    <tr>        <th class=\"blank level0\" ></th>        <th class=\"col_heading level0 col0\" >All</th>    </tr>    <tr>        <th class=\"index_name level0\" >Has Breached SLA</th>        <th class=\"blank\" ></th>    </tr></thead><tbody>\n",
       "                <tr>\n",
       "                        <th id=\"T_aa44b_level0_row0\" class=\"row_heading level0 row0\" >False</th>\n",
       "                        <td id=\"T_aa44b_row0_col0\" class=\"data row0 col0\" >94.88%</td>\n",
       "            </tr>\n",
       "            <tr>\n",
       "                        <th id=\"T_aa44b_level0_row1\" class=\"row_heading level0 row1\" >True</th>\n",
       "                        <td id=\"T_aa44b_row1_col0\" class=\"data row1 col0\" >5.12%</td>\n",
       "            </tr>\n",
       "    </tbody></table>"
      ],
      "text/plain": [
       "<pandas.io.formats.style.Styler at 0x26353f58e50>"
      ]
     },
     "execution_count": 220,
     "metadata": {},
     "output_type": "execute_result"
    }
   ],
   "source": [
    "#Grouping by SLA and counting the percentage of False and True\n",
    "group_sla = pd.DataFrame(frame, columns = ['Task', 'Has Breached SLA'])\n",
    "group_sla = group_sla.rename(columns = {'Task': 'All'})\n",
    "\n",
    "group_sla.groupby(['Has Breached SLA']).count().apply(lambda p: p / 20603).style.format(\"{:.2%}\")"
   ]
  },
  {
   "cell_type": "code",
   "execution_count": 221,
   "id": "502950d4",
   "metadata": {},
   "outputs": [
    {
     "data": {
      "text/html": [
       "<style  type=\"text/css\" >\n",
       "</style><table id=\"T_3cc6e_\" ><thead>    <tr>        <th class=\"blank level0\" ></th>        <th class=\"col_heading level0 col0\" >Completed</th>    </tr>    <tr>        <th class=\"index_name level0\" >Has Breached SLA</th>        <th class=\"blank\" ></th>    </tr></thead><tbody>\n",
       "                <tr>\n",
       "                        <th id=\"T_3cc6e_level0_row0\" class=\"row_heading level0 row0\" >False</th>\n",
       "                        <td id=\"T_3cc6e_row0_col0\" class=\"data row0 col0\" >96.57%</td>\n",
       "            </tr>\n",
       "            <tr>\n",
       "                        <th id=\"T_3cc6e_level0_row1\" class=\"row_heading level0 row1\" >True</th>\n",
       "                        <td id=\"T_3cc6e_row1_col0\" class=\"data row1 col0\" >3.44%</td>\n",
       "            </tr>\n",
       "    </tbody></table>"
      ],
      "text/plain": [
       "<pandas.io.formats.style.Styler at 0x26353f44250>"
      ]
     },
     "execution_count": 221,
     "metadata": {},
     "output_type": "execute_result"
    }
   ],
   "source": [
    "#Grouping by SLA the completed ones\n",
    "completed_sla = pd.DataFrame(frame, columns = ['Stage', 'Has Breached SLA'])\n",
    "\n",
    "completed_sla = completed_sla[completed_sla['Stage'].str.contains('Completed')==True]\n",
    "completed_sla = completed_sla.rename(columns = {'Stage': 'Completed'})\n",
    "\n",
    "completed_sla.groupby(['Has Breached SLA']).count().apply(lambda p: p / 18750).style.format(\"{:.2%}\")"
   ]
  },
  {
   "cell_type": "code",
   "execution_count": 303,
   "id": "4cc4c15b",
   "metadata": {},
   "outputs": [
    {
     "data": {
      "text/html": [
       "<style  type=\"text/css\" >\n",
       "</style><table id=\"T_0e8d2_\" ><thead>    <tr>        <th class=\"blank level0\" ></th>        <th class=\"col_heading level0 col0\" >All</th>        <th class=\"col_heading level0 col1\" >Completed</th>    </tr>    <tr>        <th class=\"index_name level0\" >Has Breached SLA</th>        <th class=\"blank\" ></th>        <th class=\"blank\" ></th>    </tr></thead><tbody>\n",
       "                <tr>\n",
       "                        <th id=\"T_0e8d2_level0_row0\" class=\"row_heading level0 row0\" >False</th>\n",
       "                        <td id=\"T_0e8d2_row0_col0\" class=\"data row0 col0\" >94.88%</td>\n",
       "                        <td id=\"T_0e8d2_row0_col1\" class=\"data row0 col1\" >96.57%</td>\n",
       "            </tr>\n",
       "            <tr>\n",
       "                        <th id=\"T_0e8d2_level0_row1\" class=\"row_heading level0 row1\" >True</th>\n",
       "                        <td id=\"T_0e8d2_row1_col0\" class=\"data row1 col0\" >5.12%</td>\n",
       "                        <td id=\"T_0e8d2_row1_col1\" class=\"data row1 col1\" >3.44%</td>\n",
       "            </tr>\n",
       "    </tbody></table>"
      ],
      "text/plain": [
       "<pandas.io.formats.style.Styler at 0x26353f95a00>"
      ]
     },
     "execution_count": 303,
     "metadata": {},
     "output_type": "execute_result"
    }
   ],
   "source": [
    "#Creating a df for all and the completed grouped by SLA\n",
    "\n",
    "#Creating first a DataFrame for both\n",
    "frm = [group_sla, completed_sla]\n",
    "result = pd.concat(frm)\n",
    "result = pd.DataFrame(result.groupby(['Has Breached SLA']).count())\n",
    "result.columns = ['All', 'Completed']\n",
    "\n",
    "#Getting the columns and applying the function to transform each in percentage\n",
    "a = result['All'].to_frame().apply(lambda p: p / 20603)\n",
    "c = result['Completed'].to_frame().apply(lambda p: p / 18750)\n",
    "\n",
    "#Concatenating again, and presenting the Last DataFrame\n",
    "frm_1 = [a, c]\n",
    "rst = pd.concat(frm_1, axis=1)\n",
    "rst.style.format(\"{:.2%}\")\n"
   ]
  }
 ],
 "metadata": {
  "kernelspec": {
   "display_name": "Python 3",
   "language": "python",
   "name": "python3"
  },
  "language_info": {
   "codemirror_mode": {
    "name": "ipython",
    "version": 3
   },
   "file_extension": ".py",
   "mimetype": "text/x-python",
   "name": "python",
   "nbconvert_exporter": "python",
   "pygments_lexer": "ipython3",
   "version": "3.8.8"
  }
 },
 "nbformat": 4,
 "nbformat_minor": 5
}
